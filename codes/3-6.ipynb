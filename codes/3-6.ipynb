{
 "cells": [
  {
   "cell_type": "markdown",
   "id": "48b15f5c",
   "metadata": {},
   "source": [
    "**Section 1 勾配消失問題**"
   ]
  },
  {
   "cell_type": "code",
   "execution_count": 20,
   "id": "ce98799a",
   "metadata": {},
   "outputs": [
    {
     "name": "stdout",
     "output_type": "stream",
     "text": [
      "C:\\Users\\zawaz\\Desktop\\study_ai_ml_google\\DNN_code_colab_lesson_1_2\n"
     ]
    }
   ],
   "source": [
    "cd C:\\Users\\zawaz\\Desktop\\study_ai_ml_google\\DNN_code_colab_lesson_1_2"
   ]
  },
  {
   "cell_type": "code",
   "execution_count": 2,
   "id": "69e1f3fa",
   "metadata": {},
   "outputs": [],
   "source": [
    "import numpy as np\n",
    "from common import layers\n",
    "from collections import OrderedDict\n",
    "from common import functions\n",
    "from data.mnist import load_mnist\n",
    "import matplotlib.pyplot as plt\n",
    "\n",
    "\n",
    "class MultiLayerNet:\n",
    "    '''\n",
    "    input_size: 入力層のノード数\n",
    "    hidden_size_list: 隠れ層のノード数のリスト\n",
    "    output_size: 出力層のノード数\n",
    "    activation: 活性化関数\n",
    "    weight_init_std: 重みの初期化方法\n",
    "    '''\n",
    "    def __init__(self, input_size, hidden_size_list, output_size, activation='relu', weight_init_std='relu'):\n",
    "        self.input_size = input_size\n",
    "        self.output_size = output_size\n",
    "        self.hidden_size_list = hidden_size_list\n",
    "        self.hidden_layer_num = len(hidden_size_list)\n",
    "        self.params = {}\n",
    "\n",
    "        # 重みの初期化\n",
    "        self.__init_weight(weight_init_std)\n",
    "\n",
    "        # レイヤの生成, sigmoidとreluのみ扱う\n",
    "        activation_layer = {'sigmoid': layers.Sigmoid, 'relu': layers.Relu}\n",
    "        self.layers = OrderedDict() # 追加した順番に格納\n",
    "        for idx in range(1, self.hidden_layer_num+1):\n",
    "            self.layers['Affine' + str(idx)] = layers.Affine(self.params['W' + str(idx)], self.params['b' + str(idx)])\n",
    "            self.layers['Activation_function' + str(idx)] = activation_layer[activation]()\n",
    "\n",
    "        idx = self.hidden_layer_num + 1\n",
    "        self.layers['Affine' + str(idx)] = layers.Affine(self.params['W' + str(idx)], self.params['b' + str(idx)])\n",
    "\n",
    "        self.last_layer = layers.SoftmaxWithLoss()\n",
    "\n",
    "    def __init_weight(self, weight_init_std):\n",
    "        all_size_list = [self.input_size] + self.hidden_size_list + [self.output_size]\n",
    "        for idx in range(1, len(all_size_list)):\n",
    "            scale = weight_init_std\n",
    "            if str(weight_init_std).lower() in ('relu', 'he'):\n",
    "                scale = np.sqrt(2.0 / all_size_list[idx - 1])\n",
    "            elif str(weight_init_std).lower() in ('sigmoid', 'xavier'):\n",
    "                scale = np.sqrt(1.0 / all_size_list[idx - 1])\n",
    "\n",
    "            self.params['W' + str(idx)] = scale * np.random.randn(all_size_list[idx-1], all_size_list[idx])\n",
    "            self.params['b' + str(idx)] = np.zeros(all_size_list[idx])\n",
    "\n",
    "    def predict(self, x):\n",
    "        for layer in self.layers.values():\n",
    "            x = layer.forward(x)\n",
    "\n",
    "        return x\n",
    "\n",
    "    def loss(self, x, d):\n",
    "        y = self.predict(x)\n",
    "\n",
    "        weight_decay = 0\n",
    "        for idx in range(1, self.hidden_layer_num + 2):\n",
    "            W = self.params['W' + str(idx)]\n",
    "\n",
    "        return self.last_layer.forward(y, d) + weight_decay\n",
    "\n",
    "    def accuracy(self, x, d):\n",
    "        y = self.predict(x)\n",
    "        y = np.argmax(y, axis=1)\n",
    "        if d.ndim != 1 : d = np.argmax(d, axis=1)\n",
    "\n",
    "        accuracy = np.sum(y == d) / float(x.shape[0])\n",
    "        return accuracy\n",
    "\n",
    "    def gradient(self, x, d):\n",
    "        # forward\n",
    "        self.loss(x, d)\n",
    "\n",
    "        # backward\n",
    "        dout = 1\n",
    "        dout = self.last_layer.backward(dout)\n",
    "\n",
    "        layers = list(self.layers.values())\n",
    "        layers.reverse()\n",
    "        for layer in layers:\n",
    "            dout = layer.backward(dout)\n",
    "\n",
    "        # 設定\n",
    "        grad = {}\n",
    "        for idx in range(1, self.hidden_layer_num+2):\n",
    "            grad['W' + str(idx)] = self.layers['Affine' + str(idx)].dW\n",
    "            grad['b' + str(idx)] = self.layers['Affine' + str(idx)].db\n",
    "\n",
    "        return grad"
   ]
  },
  {
   "cell_type": "code",
   "execution_count": 19,
   "id": "f1261849",
   "metadata": {},
   "outputs": [
    {
     "name": "stdout",
     "output_type": "stream",
     "text": [
      "データ読み込み完了\n",
      "Generation: 100. 正答率(トレーニング) = 0.12\n",
      "                : 100. 正答率(テスト) = 0.207\n",
      "Generation: 200. 正答率(トレーニング) = 0.19\n",
      "                : 200. 正答率(テスト) = 0.2513\n",
      "Generation: 300. 正答率(トレーニング) = 0.67\n",
      "                : 300. 正答率(テスト) = 0.56\n",
      "Generation: 400. 正答率(トレーニング) = 0.71\n",
      "                : 400. 正答率(テスト) = 0.7388\n",
      "Generation: 500. 正答率(トレーニング) = 0.9\n",
      "                : 500. 正答率(テスト) = 0.8384\n",
      "Generation: 600. 正答率(トレーニング) = 0.88\n",
      "                : 600. 正答率(テスト) = 0.8599\n",
      "Generation: 700. 正答率(トレーニング) = 0.91\n",
      "                : 700. 正答率(テスト) = 0.8895\n",
      "Generation: 800. 正答率(トレーニング) = 0.94\n",
      "                : 800. 正答率(テスト) = 0.9067\n",
      "Generation: 900. 正答率(トレーニング) = 0.95\n",
      "                : 900. 正答率(テスト) = 0.918\n",
      "Generation: 1000. 正答率(トレーニング) = 0.97\n",
      "                : 1000. 正答率(テスト) = 0.9216\n",
      "Generation: 1100. 正答率(トレーニング) = 0.9\n",
      "                : 1100. 正答率(テスト) = 0.924\n",
      "Generation: 1200. 正答率(トレーニング) = 0.96\n",
      "                : 1200. 正答率(テスト) = 0.9336\n",
      "Generation: 1300. 正答率(トレーニング) = 0.97\n",
      "                : 1300. 正答率(テスト) = 0.9386\n",
      "Generation: 1400. 正答率(トレーニング) = 0.93\n",
      "                : 1400. 正答率(テスト) = 0.9357\n",
      "Generation: 1500. 正答率(トレーニング) = 0.97\n",
      "                : 1500. 正答率(テスト) = 0.937\n",
      "Generation: 1600. 正答率(トレーニング) = 0.98\n",
      "                : 1600. 正答率(テスト) = 0.9404\n",
      "Generation: 1700. 正答率(トレーニング) = 0.99\n",
      "                : 1700. 正答率(テスト) = 0.9403\n",
      "Generation: 1800. 正答率(トレーニング) = 0.98\n",
      "                : 1800. 正答率(テスト) = 0.9397\n",
      "Generation: 1900. 正答率(トレーニング) = 0.96\n",
      "                : 1900. 正答率(テスト) = 0.9441\n",
      "Generation: 2000. 正答率(トレーニング) = 0.98\n",
      "                : 2000. 正答率(テスト) = 0.9475\n"
     ]
    },
    {
     "data": {
      "image/png": "[encoded data removed]",
      "text/plain": [
       "<Figure size 432x288 with 1 Axes>"
      ]
     },
     "metadata": {
      "needs_background": "light"
     },
     "output_type": "display_data"
    }
   ],
   "source": [
    "# データの読み込み\n",
    "(x_train, d_train), (x_test, d_test) = load_mnist(normalize=True, one_hot_label=True)\n",
    "\n",
    "print(\"データ読み込み完了\")\n",
    "\n",
    "network = MultiLayerNet(input_size=784, hidden_size_list=[40, 30, 30, 20],\n",
    "                        output_size=10, activation='relu', weight_init_std=0.1)\n",
    "\n",
    "iters_num = 2000\n",
    "train_size = x_train.shape[0]\n",
    "batch_size = 100\n",
    "learning_rate = 0.1\n",
    "\n",
    "train_loss_list = []\n",
    "accuracies_train = []\n",
    "accuracies_test = []\n",
    "\n",
    "plot_interval=100\n",
    "\n",
    "for i in range(iters_num):\n",
    "    batch_mask = np.random.choice(train_size, batch_size)\n",
    "    x_batch = x_train[batch_mask]\n",
    "    d_batch = d_train[batch_mask]\n",
    "\n",
    "    # 勾配\n",
    "    grad = network.gradient(x_batch, d_batch)\n",
    "    \n",
    "    for key in network.params.keys():\n",
    "        network.params[key] -= learning_rate * grad[key]\n",
    "    \n",
    "    loss = network.loss(x_batch, d_batch)\n",
    "    train_loss_list.append(loss)\n",
    "    \n",
    "    if (i + 1) % plot_interval == 0:\n",
    "        accr_test = network.accuracy(x_test, d_test)\n",
    "        accuracies_test.append(accr_test)        \n",
    "        accr_train = network.accuracy(x_batch, d_batch)\n",
    "        accuracies_train.append(accr_train)\n",
    "\n",
    "        print('Generation: ' + str(i+1) + '. 正答率(トレーニング) = ' + str(accr_train))\n",
    "        print('                : ' + str(i+1) + '. 正答率(テスト) = ' + str(accr_test))\n",
    "        \n",
    "\n",
    "lists = range(0, iters_num, plot_interval)\n",
    "plt.plot(lists, accuracies_train, label=\"training set\")\n",
    "plt.plot(lists, accuracies_test,  label=\"test set\")\n",
    "plt.legend(loc=\"lower right\")\n",
    "plt.title(\"accuracy\")\n",
    "plt.xlabel(\"count\")\n",
    "plt.ylabel(\"accuracy\")\n",
    "plt.ylim(0, 1.0)\n",
    "# グラフの表示\n",
    "plt.show()"
   ]
  },
  {
   "cell_type": "code",
   "execution_count": 14,
   "id": "af2ce8b4",
   "metadata": {},
   "outputs": [
    {
     "data": {
      "text/plain": [
       "dict_keys(['W1', 'b1', 'W2', 'b2', 'W3', 'b3', 'W4', 'b4', 'W5', 'b5'])"
      ]
     },
     "execution_count": 14,
     "metadata": {},
     "output_type": "execute_result"
    }
   ],
   "source": [
    "network.params.keys()"
   ]
  },
  {
   "cell_type": "markdown",
   "id": "70eeaa82",
   "metadata": {},
   "source": [
    "活性化関数の定義と、重みの初期化方法を変えると、学習にどのような変化が起こるのかを確認した。  \n",
    "活性化関数の違いは、中間層の数が少ないうちはそれほど大きな影響は見られなかったが、層が厚くなるにつれて、reluの方が正しく学習が行われた。  \n",
    "一方で、重みの初期化方法は少ない層でも影響があった。xavierとheの違いはなかなかつかめなかったが、ガウス分布（0.01）で散らした時は全体的に学習がうまくいかない傾向にあった。一方で分散の大きさを大きくすると学習が進む場合があり、これは、重みの初期値が小さすぎると学習ができなくなることを裏付けている。"
   ]
  }
 ],
 "metadata": {
  "kernelspec": {
   "display_name": "Python 3",
   "language": "python",
   "name": "python3"
  },
  "language_info": {
   "codemirror_mode": {
    "name": "ipython",
    "version": 3
   },
   "file_extension": ".py",
   "mimetype": "text/x-python",
   "name": "python",
   "nbconvert_exporter": "python",
   "pygments_lexer": "ipython3",
   "version": "3.7.10"
  }
 },
 "nbformat": 4,
 "nbformat_minor": 5
}
