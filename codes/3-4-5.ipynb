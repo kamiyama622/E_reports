{
 "cells": [
  {
   "cell_type": "markdown",
   "id": "c40e3374",
   "metadata": {},
   "source": [
    "**Section 4 勾配降下法**"
   ]
  },
  {
   "cell_type": "markdown",
   "id": "27ded0dc",
   "metadata": {},
   "source": [
    "**Section 5 誤差逆伝播法**"
   ]
  },
  {
   "cell_type": "code",
   "execution_count": null,
   "id": "fd33bb12",
   "metadata": {},
   "outputs": [],
   "source": [
    "cd C:\\Users\\zawaz\\Desktop\\study_ai_ml_google\\DNN_code_colab_lesson_1_2"
   ]
  },
  {
   "cell_type": "code",
   "execution_count": 2,
   "id": "423bccb7",
   "metadata": {},
   "outputs": [],
   "source": [
    "import numpy as np\n",
    "from common import functions\n",
    "import matplotlib.pyplot as plt"
   ]
  },
  {
   "cell_type": "code",
   "execution_count": 158,
   "id": "550cc50c",
   "metadata": {},
   "outputs": [],
   "source": [
    "def print_vec(text, vec):\n",
    "    print(\"*** \" + text + \" ***\")\n",
    "    print(vec)\n",
    "    #print(\"shape: \" + str(x.shape))\n",
    "    print(\"\")\n",
    "\n",
    "def init_network(firstNode=2,nodesNum=3,lastNode=2):\n",
    "    print(\"##### ネットワークの初期化 #####\")\n",
    "\n",
    "    network = {}\n",
    "#     network['W1'] = np.array([\n",
    "#         [0.1, 0.3, 0.5],\n",
    "#         [0.2, 0.4, 0.6]\n",
    "#     ])\n",
    "\n",
    "#     network['W2'] = np.array([\n",
    "#         [0.1, 0.4],\n",
    "#         [0.2, 0.5],\n",
    "#         [0.3, 0.6]\n",
    "#     ])\n",
    "\n",
    "#     network['b1'] = np.array([0.1, 0.2, 0.3])\n",
    "#     network['b2'] = np.array([0.1, 0.2])\n",
    "    \n",
    "    \n",
    "    network['W1'] = np.random.randn(firstNode, nodesNum)\n",
    "    network['W2'] = np.random.randn(nodesNum,lastNode)\n",
    "    network['b1'] = np.random.randn(nodesNum)\n",
    "    network['b2'] = np.random.randn(lastNode)\n",
    "        \n",
    "    print_vec(\"重み1\", network['W1'])\n",
    "    print_vec(\"重み2\", network['W2'])\n",
    "    print_vec(\"バイアス1\", network['b1'])\n",
    "    print_vec(\"バイアス2\", network['b2'])\n",
    "\n",
    "    return network\n",
    "\n",
    "def forward(network, x):\n",
    "#     print(\"##### 順伝播開始 #####\")\n",
    "\n",
    "    W1, W2 = network['W1'], network['W2']\n",
    "    b1, b2 = network['b1'], network['b2']\n",
    "    \n",
    "    u1 = np.dot(x, W1) + b1\n",
    "    z1 = functions.relu(u1)\n",
    "    u2 = np.dot(z1, W2) + b2\n",
    "#     y = functions.softmax(u2)\n",
    "    y = u2\n",
    "    \n",
    "#     print_vec(\"総入力1\", u1)\n",
    "#     print_vec(\"中間層出力1\", z1)\n",
    "#     print_vec(\"総入力2\", u2)\n",
    "#     print_vec(\"出力1\", y)\n",
    "#     print(\"出力合計: \" + str(np.sum(y)))\n",
    "\n",
    "    return y, z1"
   ]
  },
  {
   "cell_type": "code",
   "execution_count": 159,
   "id": "19c18cd0",
   "metadata": {},
   "outputs": [],
   "source": [
    "def backward(x, d, z1, y):\n",
    "#     print(\"\\n##### 誤差逆伝播開始 #####\")\n",
    "\n",
    "    grad = {}\n",
    "\n",
    "    W1, W2 = network['W1'], network['W2']\n",
    "    b1, b2 = network['b1'], network['b2']\n",
    "    #  出力層でのデルタ\n",
    "#     delta2 = functions.d_sigmoid_with_loss(d, y)\n",
    "    delta2 = functions.d_mean_squared_error(d, y)\n",
    "    #  b2の勾配\n",
    "    grad['b2'] = np.sum(delta2, axis=0)\n",
    "    #  W2の勾配\n",
    "    grad['W2'] = np.dot(z1.T, delta2)\n",
    "#     print_vec(\"偏微分_dE/du2\", delta2)\n",
    "    #  中間層でのデルタ\n",
    "    delta1 = np.dot(delta2, W2.T) * functions.d_relu(z1)\n",
    "#     print_vec(\"偏微分_dE/du2\", delta1)\n",
    "    # b1の勾配\n",
    "    grad['b1'] = np.sum(delta1, axis=0)\n",
    "    #  W1の勾配\n",
    "    grad['W1'] = np.dot(x.T, delta1)\n",
    "\n",
    "#     print_vec(\"偏微分_重み1\", grad[\"W1\"])\n",
    "#     print_vec(\"偏微分_重み2\", grad[\"W2\"])\n",
    "#     print_vec(\"偏微分_バイアス1\", grad[\"b1\"])\n",
    "#     print_vec(\"偏微分_バイアス2\", grad[\"b2\"])\n",
    "\n",
    "    return grad"
   ]
  },
  {
   "cell_type": "code",
   "execution_count": 156,
   "id": "a9142049",
   "metadata": {
    "scrolled": true
   },
   "outputs": [
    {
     "name": "stdout",
     "output_type": "stream",
     "text": [
      "##### ネットワークの初期化 #####\n",
      "*** 重み1 ***\n",
      "[[ 0.19187865  0.77879186  0.26868155]\n",
      " [ 0.03103215 -0.91146877  0.94964822]]\n",
      "\n",
      "*** 重み2 ***\n",
      "[[-0.35626312  1.31509972]\n",
      " [ 0.50553098  0.66737735]\n",
      " [-0.80296317  1.47771501]]\n",
      "\n",
      "*** バイアス1 ***\n",
      "[-0.1007849  -0.34950915  1.47603096]\n",
      "\n",
      "*** バイアス2 ***\n",
      "[ 0.58582217 -1.12216349]\n",
      "\n",
      "##### 順伝播開始 #####\n",
      "*** loss1 ***\n",
      "-2.1743449096365244\n",
      "\n",
      "\n",
      "##### 誤差逆伝播開始 #####\n",
      "*** 偏微分_dE/du2 ***\n",
      "[[-4.71551183  7.79642068]]\n",
      "\n",
      "*** 偏微分_dE/du2 ***\n",
      "[[11.93303361  0.         15.30727018]]\n",
      "\n",
      "##### 結果表示 #####\n",
      "##### 順伝播開始 #####\n",
      "*** loss2 ***\n",
      "-0.08855679170247827\n",
      "\n",
      "##### 更新後パラメータ #####\n",
      "*** 重み1 ***\n",
      "[[ 0.07254832  0.77879186  0.11560885]\n",
      " [-0.56561953 -0.91146877  0.18428471]]\n",
      "\n",
      "*** 重み2 ***\n",
      "[[-0.34465096  1.29590068]\n",
      " [ 0.50553098  0.66737735]\n",
      " [-0.49678718  0.97149703]]\n",
      "\n",
      "*** バイアス1 ***\n",
      "[-0.22011524 -0.34950915  1.32295826]\n",
      "\n",
      "*** バイアス2 ***\n",
      "[ 0.63297728 -1.20012769]\n",
      "\n"
     ]
    }
   ],
   "source": [
    "# 訓練データ\n",
    "x = np.array([[1.0, 5.0]])\n",
    "# 目標出力\n",
    "d = np.array([[0, 1]])\n",
    "#  学習率\n",
    "learning_rate = 0.01\n",
    "network =  init_network()\n",
    "y, z1 = forward(network, x)\n",
    "\n",
    "# 誤差\n",
    "loss1 = functions.cross_entropy_error(d, y)\n",
    "print_vec(\"loss1\",loss1)\n",
    "\n",
    "grad = backward(x, d, z1, y)\n",
    "for key in ('W1', 'W2', 'b1', 'b2'):\n",
    "    network[key]  -= learning_rate * grad[key]\n",
    "\n",
    "print(\"##### 結果表示 #####\")  \n",
    "\n",
    "y2, z12 = forward(network, x)\n",
    "loss2 = functions.cross_entropy_error(d, y2)\n",
    "print_vec(\"loss2\",loss2)\n",
    "\n",
    "print(\"##### 更新後パラメータ #####\") \n",
    "print_vec(\"重み1\", network['W1'])\n",
    "print_vec(\"重み2\", network['W2'])\n",
    "print_vec(\"バイアス1\", network['b1'])\n",
    "print_vec(\"バイアス2\", network['b2'])"
   ]
  },
  {
   "cell_type": "code",
   "execution_count": 166,
   "id": "6095feec",
   "metadata": {
    "scrolled": true
   },
   "outputs": [
    {
     "name": "stdout",
     "output_type": "stream",
     "text": [
      "##### ネットワークの初期化 #####\n",
      "*** 重み1 ***\n",
      "[[-0.29225796  0.98508164 -0.66924177  0.0797783  -0.29798726  0.41714759\n",
      "   0.37856158 -0.68891242 -1.21566482 -0.06857517 -1.7039425  -0.84314487\n",
      "   0.31922425 -0.27871193  1.33532816  0.46667898  1.00766694 -1.44217745\n",
      "  -0.42818187  2.0148607   1.77243793  0.10978657  0.22997063  0.75892031\n",
      "  -1.57062634 -0.34456892 -1.21070746 -1.35272473 -1.87981953 -0.3581625 ]\n",
      " [-0.54937048  1.8824244  -0.7609003  -0.24438728 -0.42452626 -0.07177102\n",
      "   0.52240615 -0.77084818  1.99244244  1.19102427  0.03536658  1.58262634\n",
      "  -0.86703823 -0.67720919 -1.00270158 -0.08858491 -1.04532776 -0.54855378\n",
      "  -0.97735225 -0.75634613  0.74379505  0.26416403  0.9289189  -0.55394556\n",
      "   1.70708708 -3.35481451 -0.24121956  1.30286261  0.27380861 -0.83096446]]\n",
      "\n",
      "*** 重み2 ***\n",
      "[[ 1.75963189]\n",
      " [-0.4405648 ]\n",
      " [-0.30688098]\n",
      " [-0.80620621]\n",
      " [-0.21492496]\n",
      " [ 0.68255321]\n",
      " [ 0.58052748]\n",
      " [-0.55477861]\n",
      " [ 0.47929342]\n",
      " [ 0.32963686]\n",
      " [ 1.14140947]\n",
      " [-0.10420234]\n",
      " [-0.77242259]\n",
      " [ 0.99804377]\n",
      " [ 2.97693014]\n",
      " [ 0.76991671]\n",
      " [ 0.46399628]\n",
      " [-0.01369808]\n",
      " [ 0.24046419]\n",
      " [-1.08007195]\n",
      " [ 0.93576496]\n",
      " [ 1.15050472]\n",
      " [-0.76344467]\n",
      " [-0.1618647 ]\n",
      " [ 1.25038375]\n",
      " [-0.26680341]\n",
      " [ 0.5728745 ]\n",
      " [-1.12976932]\n",
      " [-0.48968021]\n",
      " [-0.73372867]]\n",
      "\n",
      "*** バイアス1 ***\n",
      "[-0.40284152 -0.30447391 -1.88348317 -0.39818607  0.79061978  1.54590798\n",
      "  1.51136967 -0.30174109  0.20518255 -0.48310866 -0.18386156 -0.27389653\n",
      "  0.59473159 -0.98322315 -0.01445675  0.92911145 -0.19781549 -1.61001579\n",
      " -1.35253134 -1.24285198  0.962801   -1.70197853  0.26481178 -0.06497598\n",
      "  0.93479946  0.66936422 -2.99846437  1.81815816  0.52769831  1.10339841]\n",
      "\n",
      "*** バイアス2 ***\n",
      "[-0.74543463]\n",
      "\n",
      "##### 結果表示 #####\n"
     ]
    }
   ],
   "source": [
    "# サンプルデータを作成\n",
    "data_sets_size = 100000\n",
    "data_sets = [0 for i in range(data_sets_size)]\n",
    "\n",
    "def f(x):\n",
    "    y = 3 * x[0]**2 + 2 * x[1]\n",
    "    return y\n",
    "\n",
    "for i in range(data_sets_size):\n",
    "    data_sets[i] = {}\n",
    "    # ランダムな値を設定\n",
    "    data_sets[i]['x'] = np.random.rand(2)\n",
    "    \n",
    "    ## 試してみよう_入力値の設定\n",
    "    # data_sets[i]['x'] = np.random.rand(2) * 10 -5 # -5〜5のランダム数値\n",
    "    \n",
    "    # 目標出力を設定\n",
    "    data_sets[i]['d'] = f(data_sets[i]['x'])\n",
    "    \n",
    "losses = []\n",
    "# 学習率\n",
    "learning_rate = 0.06\n",
    "\n",
    "# 抽出数\n",
    "epoch = 2000\n",
    "\n",
    "# パラメータの初期化\n",
    "network = init_network(2,30,1)\n",
    "# データのランダム抽出\n",
    "random_datasets = np.random.choice(data_sets, epoch)\n",
    "\n",
    "# 勾配降下の繰り返し\n",
    "for dataset in random_datasets:\n",
    "    x_, d = dataset['x'], dataset['d']\n",
    "    x = x_[np.newaxis,:]\n",
    "    y, z1 = forward(network, x)\n",
    "    grad = backward(x, d, z1, y)\n",
    "    # パラメータに勾配適用\n",
    "    for key in ('W1', 'W2', 'b1', 'b2'):\n",
    "        network[key]  -= learning_rate * grad[key]\n",
    "\n",
    "    # 誤差\n",
    "    loss = functions.mean_squared_error(d, y)\n",
    "    losses.append(loss)\n",
    "\n",
    "print(\"##### 結果表示 #####\")    \n",
    "lists = range(epoch)\n"
   ]
  },
  {
   "cell_type": "code",
   "execution_count": 167,
   "id": "2becf116",
   "metadata": {},
   "outputs": [
    {
     "data": {
      "text/plain": [
       "(0, 1)"
      ]
     },
     "execution_count": 167,
     "metadata": {},
     "output_type": "execute_result"
    },
    {
     "data": {
      "image/png": "[encoded data removed]",
      "text/plain": [
       "<Figure size 432x288 with 1 Axes>"
      ]
     },
     "metadata": {
      "needs_background": "light"
     },
     "output_type": "display_data"
    }
   ],
   "source": [
    "plt.plot(lists, losses, 'o-')\n",
    "plt.ylim([0,1])"
   ]
  },
  {
   "cell_type": "code",
   "execution_count": 168,
   "id": "95104dd0",
   "metadata": {},
   "outputs": [
    {
     "data": {
      "text/plain": [
       "[<matplotlib.lines.Line2D at 0x1a14f1bd6c8>,\n",
       " <matplotlib.lines.Line2D at 0x1a14f1a9488>]"
      ]
     },
     "execution_count": 168,
     "metadata": {},
     "output_type": "execute_result"
    },
    {
     "data": {
      "image/png": "[encoded data removed]",
      "text/plain": [
       "<Figure size 432x288 with 1 Axes>"
      ]
     },
     "metadata": {
      "needs_background": "light"
     },
     "output_type": "display_data"
    }
   ],
   "source": [
    "test = [[i/500,0] for i in range(1000)]\n",
    "test_y = [3*(i/500)**2  for i in range(1000)]\n",
    "y = np.zeros(1000)\n",
    "z1 = np.zeros(1000)\n",
    "for j in range(1000):\n",
    "    y_,z1_ = forward(network,test[j])\n",
    "    y[j] = y_\n",
    "plt.plot(test,y,'b.')\n",
    "plt.plot(test,test_y,'r-')    "
   ]
  },
  {
   "cell_type": "markdown",
   "id": "54d179aa",
   "metadata": {},
   "source": [
    "勾配降下法を用いて、誤差を逆伝播させる学習を行った。また、NNのパラメーターを変えながらの考察も行った。  \n",
    "最後に行ったのは、関数が二次の形でも推測できるかどうか検証した。結果的にわかったのは、中間層を増やすと、二次特融の曲線の形も徐々に表現できるようになるということと、学習のデータ範囲に依存するということだ。  \n",
    "あらかじめ関数の次数がわかっているなどの知見がある場合は、わざわざNNを使う必要はない一方、かなりいろいろなデータに追従することがわかった。"
   ]
  },
  {
   "cell_type": "code",
   "execution_count": null,
   "id": "130d5291",
   "metadata": {},
   "outputs": [],
   "source": []
  }
 ],
 "metadata": {
  "kernelspec": {
   "display_name": "Python 3",
   "language": "python",
   "name": "python3"
  },
  "language_info": {
   "codemirror_mode": {
    "name": "ipython",
    "version": 3
   },
   "file_extension": ".py",
   "mimetype": "text/x-python",
   "name": "python",
   "nbconvert_exporter": "python",
   "pygments_lexer": "ipython3",
   "version": "3.7.10"
  }
 },
 "nbformat": 4,
 "nbformat_minor": 5
}
