{
 "cells": [
  {
   "cell_type": "markdown",
   "metadata": {
    "id": "SgG3YVEXwXfA"
   },
   "source": [
    "***サポートベクターマシン　実装演習***"
   ]
  },
  {
   "cell_type": "code",
   "execution_count": 11,
   "metadata": {
    "executionInfo": {
     "elapsed": 305,
     "status": "ok",
     "timestamp": 1624770442036,
     "user": {
      "displayName": "Keisuke Maehata",
      "photoUrl": "",
      "userId": "04503381972729220069"
     },
     "user_tz": -540
    },
    "id": "s4LPklZ0ui3o"
   },
   "outputs": [],
   "source": [
    "import numpy as np\n",
    "import matplotlib.pyplot as plt\n",
    "import pandas as pd\n",
    "from sklearn.datasets import load_iris\n",
    "import seaborn as sns"
   ]
  },
  {
   "cell_type": "code",
   "execution_count": 12,
   "metadata": {
    "colab": {
     "base_uri": "https://localhost:8080/",
     "height": 0
    },
    "executionInfo": {
     "elapsed": 294,
     "status": "ok",
     "timestamp": 1624770444670,
     "user": {
      "displayName": "Keisuke Maehata",
      "photoUrl": "",
      "userId": "04503381972729220069"
     },
     "user_tz": -540
    },
    "id": "lQlKo6njvj_6",
    "outputId": "b4aaacff-9798-4018-e831-3bb8be9be801"
   },
   "outputs": [
    {
     "name": "stdout",
     "output_type": "stream",
     "text": [
      "[ 1.  1.  1.  1.  1.  1.  1.  1.  1.  1.  1.  1.  1.  1.  1.  1.  1.  1.\n",
      "  1.  1.  1.  1.  1.  1.  1.  1.  1.  1.  1.  1.  1.  1.  1.  1.  1.  1.\n",
      "  1.  1.  1.  1.  1.  1.  1.  1.  1.  1.  1.  1.  1.  1. -1. -1. -1. -1.\n",
      " -1. -1. -1. -1. -1. -1. -1. -1. -1. -1. -1. -1. -1. -1. -1. -1. -1. -1.\n",
      " -1. -1. -1. -1. -1. -1. -1. -1. -1. -1. -1. -1. -1. -1. -1. -1. -1. -1.\n",
      " -1. -1. -1. -1. -1. -1. -1. -1. -1. -1. -1. -1. -1. -1. -1. -1. -1. -1.\n",
      " -1. -1. -1. -1. -1. -1. -1. -1. -1. -1. -1. -1. -1. -1. -1. -1. -1. -1.\n",
      " -1. -1. -1. -1. -1. -1. -1. -1. -1. -1. -1. -1. -1. -1. -1. -1. -1. -1.\n",
      " -1. -1. -1. -1. -1. -1.]\n"
     ]
    }
   ],
   "source": [
    "iris = load_iris()\n",
    "\n",
    "X = pd.DataFrame(iris.data, columns=iris.feature_names)\n",
    "y = iris.target\n",
    "X[\"target\"] = iris.target\n",
    "# sns.pairplot(X,hue = \"target\")\n",
    "\n",
    "X_train = X.iloc[:,[1,3]].values\n",
    "\n",
    "t = np.where(y == 0, 1.0, -1.0)\n",
    "print(t)\n",
    "\n",
    "n_samples = len(X_train)"
   ]
  },
  {
   "cell_type": "code",
   "execution_count": 13,
   "metadata": {
    "colab": {
     "base_uri": "https://localhost:8080/",
     "height": 0
    },
    "executionInfo": {
     "elapsed": 284,
     "status": "ok",
     "timestamp": 1624770446725,
     "user": {
      "displayName": "Keisuke Maehata",
      "photoUrl": "",
      "userId": "04503381972729220069"
     },
     "user_tz": -540
    },
    "id": "fp6G2NaavjIO",
    "outputId": "496819e3-38bb-4920-8600-16ce23b41b5e"
   },
   "outputs": [
    {
     "name": "stdout",
     "output_type": "stream",
     "text": [
      "[[12.29 10.54 11.24 ... 10.9  12.36 10.86]\n",
      " [10.54  9.04  9.64 ...  9.4  10.66  9.36]\n",
      " [11.24  9.64 10.28 ... 10.   11.34  9.96]\n",
      " ...\n",
      " [10.9   9.4  10.   ... 13.   14.8  12.6 ]\n",
      " [12.36 10.66 11.34 ... 14.8  16.85 14.34]\n",
      " [10.86  9.36  9.96 ... 12.6  14.34 12.24]]\n",
      "[1. 1. 1. 1. 1. 1. 1. 1. 1. 1. 1. 1. 1. 1. 1. 1. 1. 1. 1. 1. 1. 1. 1. 1.\n",
      " 1. 1. 1. 1. 1. 1. 1. 1. 1. 1. 1. 1. 1. 1. 1. 1. 1. 1. 1. 1. 1. 1. 1. 1.\n",
      " 1. 1. 1. 1. 1. 1. 1. 1. 1. 1. 1. 1. 1. 1. 1. 1. 1. 1. 1. 1. 1. 1. 1. 1.\n",
      " 1. 1. 1. 1. 1. 1. 1. 1. 1. 1. 1. 1. 1. 1. 1. 1. 1. 1. 1. 1. 1. 1. 1. 1.\n",
      " 1. 1. 1. 1. 1. 1. 1. 1. 1. 1. 1. 1. 1. 1. 1. 1. 1. 1. 1. 1. 1. 1. 1. 1.\n",
      " 1. 1. 1. 1. 1. 1. 1. 1. 1. 1. 1. 1. 1. 1. 1. 1. 1. 1. 1. 1. 1. 1. 1. 1.\n",
      " 1. 1. 1. 1. 1. 1.]\n"
     ]
    }
   ],
   "source": [
    "K = X_train.dot(X_train.T)\n",
    "print(K)\n",
    "\n",
    "eta1 = 0.001\n",
    "eta2 = 0.0001\n",
    "n_iter = 100000\n",
    "\n",
    "H = np.outer(t, t) * K\n",
    "\n",
    "a = np.ones(n_samples)\n",
    "print(a)"
   ]
  },
  {
   "cell_type": "code",
   "execution_count": 14,
   "metadata": {
    "executionInfo": {
     "elapsed": 3611,
     "status": "ok",
     "timestamp": 1624770452958,
     "user": {
      "displayName": "Keisuke Maehata",
      "photoUrl": "",
      "userId": "04503381972729220069"
     },
     "user_tz": -540
    },
    "id": "NK74LWuqv0V0"
   },
   "outputs": [],
   "source": [
    "for _ in range(n_iter):\n",
    "    grad = 1 - H.dot(a)\n",
    "    a += eta1 * grad\n",
    "    a -= eta2 * a.dot(t) * t\n",
    "    a = np.where(a > 0, a, 0)\n",
    "    \n",
    "index = a > 1e-6\n",
    "support_vectors = X_train[index]\n",
    "support_vector_t = t[index]\n",
    "support_vector_a = a[index]\n",
    "\n",
    "\n",
    "term2 = K[index][:,index].dot(support_vector_a * support_vector_t)\n",
    "b = (support_vector_t - term2).mean()\n",
    "\n",
    "xx0, xx1 = np.meshgrid(np.linspace(0, 5, 100), np.linspace(0, 5, 100))\n",
    "xx = np.array([xx0, xx1]).reshape(2, -1).T\n",
    "\n",
    "X_test = xx\n",
    "y_project = np.ones(len(X_test)) * b\n",
    "for i in range(len(X_test)):\n",
    "    for a, sv_t, sv in zip(support_vector_a, support_vector_t, support_vectors):\n",
    "        y_project[i] += a * sv_t * sv.dot(X_test[i])\n",
    "y_pred = np.sign(y_project)"
   ]
  },
  {
   "cell_type": "code",
   "execution_count": 16,
   "metadata": {
    "colab": {
     "base_uri": "https://localhost:8080/",
     "height": 287
    },
    "executionInfo": {
     "elapsed": 866,
     "status": "ok",
     "timestamp": 1624770486678,
     "user": {
      "displayName": "Keisuke Maehata",
      "photoUrl": "",
      "userId": "04503381972729220069"
     },
     "user_tz": -540
    },
    "id": "Us67xJqdv5Hh",
    "outputId": "86310a15-47bc-4f74-f736-7529711cf489"
   },
   "outputs": [
    {
     "data": {
      "text/plain": [
       "<matplotlib.contour.QuadContourSet at 0x7faa3508b750>"
      ]
     },
     "execution_count": 16,
     "metadata": {
      "tags": []
     },
     "output_type": "execute_result"
    },
    {
     "data": {
      "image/png": "[encoded data removed]",
      "text/plain": [
       "<Figure size 432x288 with 1 Axes>"
      ]
     },
     "metadata": {
      "needs_background": "light",
      "tags": []
     },
     "output_type": "display_data"
    }
   ],
   "source": [
    "# 訓練データを可視化\n",
    "plt.scatter(X_train[:, 0], X_train[:, 1], c=y)\n",
    "# サポートベクトルを可視化\n",
    "plt.scatter(support_vectors[:, 0], support_vectors[:, 1],\n",
    "                    s=100, facecolors='none', edgecolors='k')\n",
    "#領域を可視化\n",
    "plt.contourf(xx0, xx1, y_pred.reshape(100, 100), alpha=0.2, levels=np.linspace(0, 1, 3))\n",
    "#マージンと決定境界を可視化\n",
    "plt.contour(xx0, xx1, y_project.reshape(100, 100), colors='k',\n",
    "                      levels=[-1, 0, 1], alpha=0.5, linestyles=['--', '-', '--'])\n",
    "\n",
    "\n"
   ]
  },
  {
   "cell_type": "markdown",
   "metadata": {
    "id": "ANaC1AFiwiZt"
   },
   "source": [
    "    \n",
    "    \n",
    "\n",
    "\n",
    "irisデータセットをSVMで分離することを試みた。  \n",
    "学習率とイテレーション回数を適切に設定しないと、サポートベクターが適切に決定されず結果的には発散してしまった。  \n",
    "今回は、学習率を低くしてかなりの回数学習させることにより収束させたが、それでも、理論通りのサポートベクター（境界から最も小さい要素）を取得できているわけではない。  \n",
    "このデータよりも重いデータを学習させるような場合には、学習率の更新のさせ方に工夫が必要だろう。\n",
    "\n"
   ]
  }
 ],
 "metadata": {
  "colab": {
   "authorship_tag": "ABX9TyNqvtwG0tx07Evmgu5OwoSY",
   "name": "2-6.ipynb",
   "provenance": []
  },
  "kernelspec": {
   "display_name": "Python 3",
   "language": "python",
   "name": "python3"
  },
  "language_info": {
   "codemirror_mode": {
    "name": "ipython",
    "version": 3
   },
   "file_extension": ".py",
   "mimetype": "text/x-python",
   "name": "python",
   "nbconvert_exporter": "python",
   "pygments_lexer": "ipython3",
   "version": "3.7.10"
  }
 },
 "nbformat": 4,
 "nbformat_minor": 1
}
