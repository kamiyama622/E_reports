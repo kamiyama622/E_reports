{
 "cells": [
  {
   "cell_type": "markdown",
   "id": "c0a48a0a",
   "metadata": {},
   "source": [
    "**Section 1 入力層～中間層**"
   ]
  },
  {
   "cell_type": "markdown",
   "id": "c905000c",
   "metadata": {},
   "source": [
    "**Section 2 活性化関数**"
   ]
  },
  {
   "cell_type": "markdown",
   "id": "bb6fdf77",
   "metadata": {},
   "source": [
    "**Section 3 出力層**"
   ]
  },
  {
   "cell_type": "code",
   "execution_count": null,
   "id": "adf77e7c",
   "metadata": {
    "scrolled": false,
    "slideshow": {
     "slide_type": "-"
    }
   },
   "outputs": [],
   "source": [
    "cd C:\\Users\\zawaz\\Desktop\\study_ai_ml_google\\DNN_code_colab_lesson_1_2"
   ]
  },
  {
   "cell_type": "code",
   "execution_count": null,
   "id": "f0c55731",
   "metadata": {},
   "outputs": [],
   "source": [
    "import numpy as np\n",
    "from common import functions"
   ]
  },
  {
   "cell_type": "code",
   "execution_count": 20,
   "id": "0c518573",
   "metadata": {
    "scrolled": true
   },
   "outputs": [],
   "source": [
    "def print_vec(text, vec):\n",
    "    print(\"*** \" + text + \" ***\")\n",
    "    print(vec)\n",
    "    print(\"shape: \" + str(vec.shape))\n",
    "    print(\"\")"
   ]
  },
  {
   "cell_type": "code",
   "execution_count": 25,
   "id": "1c6c0890",
   "metadata": {},
   "outputs": [
    {
     "name": "stdout",
     "output_type": "stream",
     "text": [
      "*** 重み ***\n",
      "[2 3]\n",
      "shape: (2,)\n",
      "\n"
     ]
    }
   ],
   "source": [
    "# 重み\n",
    "# W = np.array([[0.1], [0.2]])\n",
    "\n",
    "## 試してみよう_配列の初期化\n",
    "# W = np.zeros(2)\n",
    "#W = np.ones(2)\n",
    "#W = np.random.rand(2)\n",
    "W = np.random.randint(5, size=(2))\n",
    "\n",
    "print_vec(\"重み\", W)"
   ]
  },
  {
   "cell_type": "code",
   "execution_count": 22,
   "id": "e688b18c",
   "metadata": {},
   "outputs": [
    {
     "name": "stdout",
     "output_type": "stream",
     "text": [
      "*** バイアス ***\n",
      "0.5\n",
      "shape: ()\n",
      "\n"
     ]
    }
   ],
   "source": [
    "# バイアス\n",
    "b = np.array(0.5)\n",
    "\n",
    "## 試してみよう_数値の初期化\n",
    "#b = np.random.rand() # 0~1のランダム数値\n",
    "#b = np.random.rand() * 10 -5  # -5~5のランダム数値\n",
    "\n",
    "print_vec(\"バイアス\", b)"
   ]
  },
  {
   "cell_type": "code",
   "execution_count": 32,
   "id": "6da0bce9",
   "metadata": {},
   "outputs": [
    {
     "name": "stdout",
     "output_type": "stream",
     "text": [
      "*** 入力 ***\n",
      "[ 2 -3]\n",
      "shape: (2,)\n",
      "\n",
      "*** 総入力 ***\n",
      "-4.5\n",
      "shape: ()\n",
      "\n",
      "*** 中間層出力 ***\n",
      "0.0\n",
      "shape: ()\n",
      "\n",
      "*** 中間層出力 ***\n",
      "0.01098694263059318\n",
      "shape: ()\n",
      "\n"
     ]
    }
   ],
   "source": [
    "# 入力値\n",
    "x = np.array([2, -3])\n",
    "print_vec(\"入力\", x)\n",
    "\n",
    "# 総入力\n",
    "u = np.dot(x, W) + b\n",
    "print_vec(\"総入力\", u)\n",
    "\n",
    "# 中間層出力:ReLU\n",
    "z = functions.relu(u)\n",
    "print_vec(\"中間層出力\", z)\n",
    "\n",
    "# 中間層出力:sigmoid\n",
    "z = functions.sigmoid(u)\n",
    "print_vec(\"中間層出力\", z)"
   ]
  },
  {
   "cell_type": "code",
   "execution_count": 30,
   "id": "ba63532e",
   "metadata": {},
   "outputs": [],
   "source": [
    "# 多クラス分類\n",
    "def init_network():\n",
    "    print(\"##### ネットワークの初期化 #####\")\n",
    "\n",
    "    network = {}\n",
    "    \n",
    "    input_layer_size = 3\n",
    "    hidden_layer_size = 5\n",
    "    output_layer_size = 6\n",
    "    \n",
    "    network['W1'] = np.random.rand(input_layer_size, hidden_layer_size)\n",
    "    network['W2'] = np.random.rand(hidden_layer_size,output_layer_size)\n",
    "\n",
    "    network['b1'] =  np.random.rand(hidden_layer_size)\n",
    "    network['b2'] =  np.random.rand(output_layer_size)\n",
    "    \n",
    "    print_vec(\"重み1\", network['W1'] )\n",
    "    print_vec(\"重み2\", network['W2'] )\n",
    "    print_vec(\"バイアス1\", network['b1'] )\n",
    "    print_vec(\"バイアス2\", network['b2'] )\n",
    "\n",
    "    return network\n",
    "\n",
    "def forward(network, x):\n",
    "    \n",
    "    print(\"##### 順伝播開始 #####\")\n",
    "    W1, W2 = network['W1'], network['W2']\n",
    "    b1, b2 = network['b1'], network['b2']\n",
    "    \n",
    "    # 1層の総入力\n",
    "    u1 = np.dot(x, W1) + b1\n",
    "\n",
    "    # 1層の総出力\n",
    "    z1 = functions.relu(u1)\n",
    "\n",
    "    # 2層の総入力\n",
    "    u2 = np.dot(z1, W2) + b2\n",
    "    \n",
    "    # 出力値\n",
    "#     y = functions.softmax(u2)\n",
    "    y = u2\n",
    "    \n",
    "    print_vec(\"総入力1\", u1)\n",
    "    print_vec(\"中間層出力1\", z1)\n",
    "    print_vec(\"総入力2\", u2)\n",
    "    print_vec(\"出力1\", y)\n",
    "    print(\"出力合計: \" + str(np.sum(y)))\n",
    "        \n",
    "    return y, z1"
   ]
  },
  {
   "cell_type": "code",
   "execution_count": 31,
   "id": "e1123de9",
   "metadata": {},
   "outputs": [
    {
     "name": "stdout",
     "output_type": "stream",
     "text": [
      "##### ネットワークの初期化 #####\n",
      "*** 重み1 ***\n",
      "[[0.92815961 0.13142438 0.33857123 0.20504201 0.68471141]\n",
      " [0.69614507 0.24308604 0.78286638 0.40417049 0.16572272]\n",
      " [0.93904484 0.09609288 0.90775857 0.05073835 0.362631  ]]\n",
      "shape: (3, 5)\n",
      "\n",
      "*** 重み2 ***\n",
      "[[0.608667   0.87846321 0.80330869 0.16546431 0.23737385 0.78854372]\n",
      " [0.0982093  0.61263932 0.90076926 0.95694635 0.00491237 0.18284198]\n",
      " [0.99535831 0.95086403 0.46396797 0.18442008 0.53046818 0.13520954]\n",
      " [0.24123805 0.96859557 0.58769259 0.14958729 0.34256739 0.4508791 ]\n",
      " [0.31395047 0.85910494 0.15362558 0.42611879 0.50723875 0.81097681]]\n",
      "shape: (5, 6)\n",
      "\n",
      "*** バイアス1 ***\n",
      "[0.00772914 0.38419433 0.01764879 0.22818145 0.80761383]\n",
      "shape: (5,)\n",
      "\n",
      "*** バイアス2 ***\n",
      "[0.47170142 0.02003014 0.1743918  0.33042609 0.19827644 0.6504457 ]\n",
      "shape: (6,)\n",
      "\n",
      "##### 順伝播開始 #####\n",
      "*** 総入力1 ***\n",
      "[5.14531342 1.29006942 4.6452285  1.39377949 2.91166368]\n",
      "shape: (5,)\n",
      "\n",
      "*** 中間層出力1 ***\n",
      "[5.14531342 1.29006942 4.6452285  1.39377949 2.91166368]\n",
      "shape: (5,)\n",
      "\n",
      "*** 総入力2 ***\n",
      "[ 9.60419831 13.59875991  8.89137879  4.72219877  5.84449454  8.56142609]\n",
      "shape: (6,)\n",
      "\n",
      "*** 出力1 ***\n",
      "[ 9.60419831 13.59875991  8.89137879  4.72219877  5.84449454  8.56142609]\n",
      "shape: (6,)\n",
      "\n",
      "出力合計: 51.22245640673955\n",
      "\n",
      "##### 結果表示 #####\n",
      "*** 出力 ***\n",
      "[ 9.60419831 13.59875991  8.89137879  4.72219877  5.84449454  8.56142609]\n",
      "shape: (6,)\n",
      "\n",
      "*** 訓練データ ***\n",
      "[0 0 0 1 0 0]\n",
      "shape: (6,)\n",
      "\n",
      "*** 交差エントロピー誤差 ***\n",
      "-1.552274552592688\n",
      "shape: ()\n",
      "\n"
     ]
    }
   ],
   "source": [
    "## 事前データ\n",
    "# 入力値\n",
    "x = np.array([1., 2.,  3.])\n",
    "\n",
    "# 目標出力\n",
    "d = np.array([0, 0, 0, 1, 0, 0])\n",
    "\n",
    "# ネットワークの初期化\n",
    "network =  init_network()\n",
    "\n",
    "# 出力\n",
    "y, z1 = forward(network, x)\n",
    "\n",
    "# 誤差\n",
    "loss = functions.cross_entropy_error(d, y)\n",
    "\n",
    "## 表示\n",
    "print(\"\\n##### 結果表示 #####\")\n",
    "print_vec(\"出力\", y)\n",
    "print_vec(\"訓練データ\", d)\n",
    "print_vec(\"交差エントロピー誤差\",  loss)"
   ]
  },
  {
   "cell_type": "markdown",
   "id": "9e9d13bc",
   "metadata": {},
   "source": [
    "様々なパターンの順伝播を試した。中間層の層の数でかなり表現力を増すことが確認できた。人間に近い理解の仕方をするなら、入力の特徴量を中間層でさらに細かい特徴に分解して、得たい出力に向けて出力層で再整理するといった感じだろうか。  \n",
    "また、活性化関数によって変わる出力値の特徴も把握できた。"
   ]
  }
 ],
 "metadata": {
  "kernelspec": {
   "display_name": "Python 3",
   "language": "python",
   "name": "python3"
  },
  "language_info": {
   "codemirror_mode": {
    "name": "ipython",
    "version": 3
   },
   "file_extension": ".py",
   "mimetype": "text/x-python",
   "name": "python",
   "nbconvert_exporter": "python",
   "pygments_lexer": "ipython3",
   "version": "3.7.10"
  }
 },
 "nbformat": 4,
 "nbformat_minor": 5
}
