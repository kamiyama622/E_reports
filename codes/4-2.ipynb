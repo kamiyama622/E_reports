{
 "cells": [
  {
   "cell_type": "code",
   "execution_count": 1,
   "id": "c94d60f3",
   "metadata": {},
   "outputs": [
    {
     "ename": "SyntaxError",
     "evalue": "invalid character in identifier (<ipython-input-1-02cff6f182f8>, line 18)",
     "output_type": "error",
     "traceback": [
      "\u001b[1;36m  File \u001b[1;32m\"<ipython-input-1-02cff6f182f8>\"\u001b[1;36m, line \u001b[1;32m18\u001b[0m\n\u001b[1;33m    c = （け）\u001b[0m\n\u001b[1;37m          ^\u001b[0m\n\u001b[1;31mSyntaxError\u001b[0m\u001b[1;31m:\u001b[0m invalid character in identifier\n"
     ]
    }
   ],
   "source": [
    "def lstm(x, prev_h, prev_c, W, U, b):\n",
    "    \"\"\"\n",
    "    x: inputs, (batch_size, input_size)\n",
    "    prev_h: outputs at the previous time step, (batch_size, state_size)\n",
    "    prev_c: cell states at the previous time step, (batch_size, state\\size)\n",
    "    W: upward weights, (4*state_size, input_size)\n",
    "    U: lateral weights, (4*state_size, state_size)\n",
    "    b: biass, (4*state_size,)\n",
    "    \"\"\"\n",
    "    lstm_in = _activation(x.dot(W.T) + prev_h.dot(U.T) + b)\n",
    "    a, i, f, o = np.hsplit(lstm_in, 4)\n",
    "\n",
    "    a = np.tanh(a)\n",
    "    input_gate = _sigmoid(i)\n",
    "    forget_gate = _sigmoid(f)\n",
    "    output_gate = _sigmoid(o)\n",
    "\n",
    "    c = （け）\n",
    "    h = output_gate * np.tanh(c)\n",
    "    return c, h\n"
   ]
  },
  {
   "cell_type": "code",
   "execution_count": 2,
   "id": "f182bec0",
   "metadata": {},
   "outputs": [
    {
     "ename": "SyntaxError",
     "evalue": "invalid character in identifier (<ipython-input-2-58fe20940f9d>, line 14)",
     "output_type": "error",
     "traceback": [
      "\u001b[1;36m  File \u001b[1;32m\"<ipython-input-2-58fe20940f9d>\"\u001b[1;36m, line \u001b[1;32m14\u001b[0m\n\u001b[1;33m    h_new = （こ）\u001b[0m\n\u001b[1;37m              ^\u001b[0m\n\u001b[1;31mSyntaxError\u001b[0m\u001b[1;31m:\u001b[0m invalid character in identifier\n"
     ]
    }
   ],
   "source": [
    "def gru(x, h, W_r, U_r, W_z, U_z, W, U):\n",
    "    \"\"\"\n",
    "    x: inputs, (batch_size, input_size)\n",
    "    h: outputs at the previous time step, (batch_size, state_size)\n",
    "    W_z, U_r: weights for reset gate\n",
    "    W_z, U_z: weights for update gate\n",
    "    U, W: weights for new state\n",
    "    \"\"\"\n",
    "\n",
    "    r = _sigmoid(x.dot(W_r.T) + h.dot(U_r.T))\n",
    "    z = _sigmoid(x.dot(W_z.T) + h.dot(U_z.T))\n",
    "\n",
    "    h_bar = np.tanh(x.dot(W.T) + (r * h).dot(U.T))\n",
    "    h_new = （こ）\n",
    "    return h_new"
   ]
  },
  {
   "cell_type": "code",
   "execution_count": null,
   "id": "79667e66",
   "metadata": {},
   "outputs": [],
   "source": [
    "def bidirectional_rnn_net(xs, W_f, U_f, W_b, U_b, V):\n",
    "    \"\"\"\n",
    "    W_f, U_f: forward rnn weights, (hidden_size, input_size)\n",
    "    W_b, U_b: backward rnn weights, (hidden_size, input_size)\n",
    "    V: output weights, (output_size, 2*hidden_size)\n",
    "    \"\"\"\n",
    "    xs_f = np.zeros_like(xs)\n",
    "    xs_b = np.zeros_like(xs)\n",
    "    for i, x in enumerate(xs):\n",
    "        xs_f[i] = x\n",
    "        xs_b[i] = x[::-1]\n",
    "    hs_f = _rnn(xs_f, W_f, U_f)\n",
    "    hs_b = _rnn(xs_b, W_b, U_b)\n",
    "    hs = [（か）for h_f, h_b in zip(hs_f, hs_b)]\n",
    "    ys = hs.dot(V.T)\n",
    "    return = ys"
   ]
  }
 ],
 "metadata": {
  "kernelspec": {
   "display_name": "Python 3",
   "language": "python",
   "name": "python3"
  },
  "language_info": {
   "codemirror_mode": {
    "name": "ipython",
    "version": 3
   },
   "file_extension": ".py",
   "mimetype": "text/x-python",
   "name": "python",
   "nbconvert_exporter": "python",
   "pygments_lexer": "ipython3",
   "version": "3.7.10"
  }
 },
 "nbformat": 4,
 "nbformat_minor": 5
}
